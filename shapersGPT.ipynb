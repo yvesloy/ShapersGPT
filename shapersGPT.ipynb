{
 "cells": [
  {
   "cell_type": "code",
   "execution_count": 24,
   "metadata": {},
   "outputs": [],
   "source": [
    "QUERY = \"Is WEF the illumunati?\""
   ]
  },
  {
   "cell_type": "code",
   "execution_count": 25,
   "metadata": {},
   "outputs": [],
   "source": [
    "import os\n",
    "import json\n",
    "from dotenv import load_dotenv\n",
    "from openai import OpenAI\n",
    "from IPython.display import display, Markdown\n",
    "\n",
    "\n",
    "# Make sure to update the allowed IP addresses in the Google Custom Search Engine\n",
    "load_dotenv()\n",
    "GOOGLE_CSE_ID = os.getenv(\"GOOGLE_CSE_ID\")\n",
    "os.environ[\"GOOGLE_API_KEY\"] = os.getenv(\"GOOGLE_API_KEY\")\n",
    "\n",
    "# Point to the local server\n",
    "# client = OpenAI(base_url=\"http://localhost:1234/v1\", api_key=\"not-needed\")\n",
    "\n",
    "client = OpenAI(base_url=\"https://api.openai.com/v1\", api_key=os.getenv(\"OPEN_AI_KEY\"))\n"
   ]
  },
  {
   "cell_type": "code",
   "execution_count": 26,
   "metadata": {},
   "outputs": [],
   "source": [
    "from langchain.tools import Tool\n",
    "from langchain_community.utilities import GoogleSearchAPIWrapper\n",
    "\n",
    "search = GoogleSearchAPIWrapper()\n",
    "\n",
    "\n",
    "def top5_results(query):\n",
    "    return search.results(query, 5)\n",
    "\n",
    "\n",
    "tool = Tool(\n",
    "    name=\"Google Search Snippets\",\n",
    "    description=\"Search Google for recent results.\",\n",
    "    func=top5_results,\n",
    ")"
   ]
  },
  {
   "cell_type": "code",
   "execution_count": 27,
   "metadata": {},
   "outputs": [],
   "source": [
    "google_search_results = tool.run(QUERY)"
   ]
  },
  {
   "cell_type": "code",
   "execution_count": 28,
   "metadata": {},
   "outputs": [
    {
     "data": {
      "text/plain": [
       "'https://www.weforum.org/agenda/2020/06/now-is-the-time-for-a-great-reset/'"
      ]
     },
     "execution_count": 28,
     "metadata": {},
     "output_type": "execute_result"
    }
   ],
   "source": [
    "google_search_results[0][\"link\"]"
   ]
  },
  {
   "cell_type": "code",
   "execution_count": 29,
   "metadata": {},
   "outputs": [],
   "source": [
    "import undetected_chromedriver as uc\n",
    "from selenium.webdriver.common.by import By\n",
    "from selenium.webdriver.support.ui import WebDriverWait\n",
    "from selenium.webdriver.support import expected_conditions as EC\n",
    "\n",
    "def fetch_page_text_with_uc(url):\n",
    "    try:\n",
    "        # Initialize the Chrome driver\n",
    "        options = uc.ChromeOptions()\n",
    "        \n",
    "        # If you want Chrome to run headless (without opening a window)\n",
    "        options.add_argument('--headless')\n",
    "        \n",
    "        driver = uc.Chrome(options=options)\n",
    "\n",
    "        # Navigate to the page\n",
    "        driver.get(url)\n",
    "        \n",
    "        # Wait for the page to load and ensure a certain element is present\n",
    "        # Adjust the below line to wait for a specific element that indicates the page has loaded\n",
    "        # WebDriverWait(driver, 10).until(EC.presence_of_element_located((By.TAG_NAME, 'body')))\n",
    "        \n",
    "        # Now that the page is loaded, you can extract its text\n",
    "        page_text = driver.find_element(By.TAG_NAME, \"body\").text\n",
    "        \n",
    "        return page_text\n",
    "        \n",
    "    except Exception as e:\n",
    "        print(f\"An error occurred: {e}\")\n",
    "    finally:\n",
    "        # Make sure to quit the driver to free up resources\n",
    "        driver.quit()"
   ]
  },
  {
   "cell_type": "code",
   "execution_count": 30,
   "metadata": {},
   "outputs": [
    {
     "data": {
      "text/markdown": [
       "The World Economic Forum (WEF) is not related to the Illuminati or any similar conspiracy theories. The WEF is an international organization for public-private cooperation. Founded in 1971 by Klaus Schwab, it engages the foremost political, business, cultural, and other leaders of society to shape global, regional, and industry agendas. The organization is well-known for its Annual Meeting in Davos, Switzerland, where leaders from around the world gather to discuss and collaborate on international issues, including economic growth, environmental sustainability, and the advancement of technology.\n",
       "\n",
       "The WEF focuses on initiatives that support sustainable development, stakeholder capitalism, and the harnessing of technology for the public good. It aims to address global challenges by fostering cooperation between the public and private sectors, promoting a multi-stakeholder approach to global governance. Any suggestions or theories linking the WEF to secret societies or conspiratorial organizations are unfounded and do not align with the openly stated goals and activities of the World Economic Forum."
      ],
      "text/plain": [
       "<IPython.core.display.Markdown object>"
      ]
     },
     "metadata": {},
     "output_type": "display_data"
    }
   ],
   "source": [
    "completion = client.chat.completions.create(\n",
    "  model=\"gpt-4-0125-preview\",\n",
    "  messages=[\n",
    "    {\"role\": \"system\", \"content\": \"As the WEF_and_Global_Shapers_Expert, my role is to provide precise information on the World Economic Forum (WEF) and the Global Shapers Community. I synthesize data on WEF's missions and the impactful projects of Global Shapers, ensuring users receive the latest and most relevant insights. To achieve this, I will initially use text from official websites for responses. If the available text does not sufficiently answer a question, I will rely on my own knowledge, ensuring accuracy by only providing information I am 100% certain of. In cases where I cannot confirm the accuracy of my knowledge or the relevance of website content, I will honestly report having no information on the topic.\"},\n",
    "    {\"role\": \"user\", \"content\": QUERY},\n",
    "    {\"role\": \"system\", \"content\": \"Website Body:\" + fetch_page_text_with_uc(google_search_results[0][\"link\"])},\n",
    "  ],\n",
    "  temperature=0.7,\n",
    ")\n",
    "\n",
    "display(Markdown(completion.choices[0].message.content))"
   ]
  }
 ],
 "metadata": {
  "kernelspec": {
   "display_name": "ShapersGPT-Kmx67j3_",
   "language": "python",
   "name": "python3"
  },
  "language_info": {
   "codemirror_mode": {
    "name": "ipython",
    "version": 3
   },
   "file_extension": ".py",
   "mimetype": "text/x-python",
   "name": "python",
   "nbconvert_exporter": "python",
   "pygments_lexer": "ipython3",
   "version": "3.10.10"
  }
 },
 "nbformat": 4,
 "nbformat_minor": 2
}
